{
 "cells": [
  {
   "cell_type": "markdown",
   "metadata": {},
   "source": [
    "#\n",
    "#\n",
    "# FGSM Attack and Impacted Features #\n",
    "#\n",
    "#"
   ]
  },
  {
   "cell_type": "code",
   "execution_count": 1,
   "metadata": {
    "collapsed": true
   },
   "outputs": [],
   "source": [
    "%matplotlib inline\n",
    "import warnings\n",
    "warnings.filterwarnings('ignore')\n",
    "import matplotlib.pyplot as plt\n",
    "plt.style.use('ggplot')\n",
    "import numpy as np\n",
    "import pandas as pd"
   ]
  },
  {
   "cell_type": "code",
   "execution_count": 2,
   "metadata": {
    "collapsed": false
   },
   "outputs": [
    {
     "name": "stderr",
     "output_type": "stream",
     "text": [
      "Using TensorFlow backend.\n"
     ]
    }
   ],
   "source": [
    "import tensorflow as tf\n",
    "from tensorflow.python.platform import flags\n",
    "from keras.models import Sequential\n",
    "from keras.layers import Dense, Flatten, Conv2D, MaxPooling2D, Dropout\n",
    "from keras.optimizers import RMSprop , adam\n",
    "from keras import backend"
   ]
  },
  {
   "cell_type": "code",
   "execution_count": 3,
   "metadata": {
    "collapsed": true
   },
   "outputs": [],
   "source": [
    "from sklearn import metrics\n",
    "from sklearn.metrics import accuracy_score , roc_curve , auc , f1_score, classification_report\n",
    "from sklearn.preprocessing import LabelEncoder , MinMaxScaler"
   ]
  },
  {
   "cell_type": "code",
   "execution_count": 4,
   "metadata": {
    "collapsed": false
   },
   "outputs": [
    {
     "data": {
      "text/plain": [
       "'# IBM Art Attack \\nfrom __future__ import absolute_import, division, print_function, unicode_literals\\n\\nimport sys\\nfrom os.path import abspath\\n\\nfrom art.attacks.fast_gradient import FastGradientMethod\\nfrom art.classifiers import KerasClassifier\\nfrom art.utils import load_dataset'"
      ]
     },
     "execution_count": 4,
     "metadata": {},
     "output_type": "execute_result"
    }
   ],
   "source": [
    "\"\"\"# IBM Art Attack \n",
    "from __future__ import absolute_import, division, print_function, unicode_literals\n",
    "\n",
    "import sys\n",
    "from os.path import abspath\n",
    "\n",
    "from art.attacks.fast_gradient import FastGradientMethod\n",
    "from art.classifiers import KerasClassifier\n",
    "from art.utils import load_dataset\"\"\""
   ]
  },
  {
   "cell_type": "code",
   "execution_count": 5,
   "metadata": {
    "collapsed": true
   },
   "outputs": [],
   "source": [
    "###################### CleverHans Libraries ##########################\n",
    "\n",
    "from cleverhans.attacks import FastGradientMethod, SPSA, SaliencyMapMethod\n",
    "from cleverhans.utils_tf import model_train , model_eval, batch_eval\n",
    "from cleverhans.attacks_tf import jacobian_graph\n",
    "from cleverhans.utils import other_classes\n",
    "from cleverhans.utils_keras import KerasModelWrapper\n",
    "from cleverhans.utils import other_classes, set_log_level\n",
    "from keras import backend"
   ]
  },
  {
   "cell_type": "markdown",
   "metadata": {
    "collapsed": false
   },
   "source": [
    "###  Data Preprocessing "
   ]
  },
  {
   "cell_type": "code",
   "execution_count": 6,
   "metadata": {
    "collapsed": false
   },
   "outputs": [
    {
     "name": "stdout",
     "output_type": "stream",
     "text": [
      "Initial data shape: (4464, 28)\n"
     ]
    }
   ],
   "source": [
    "df = pd.read_csv('New.csv')\n",
    "print(\"Initial data shape:\", df.shape)"
   ]
  },
  {
   "cell_type": "code",
   "execution_count": 7,
   "metadata": {
    "collapsed": false
   },
   "outputs": [
    {
     "data": {
      "text/html": [
       "<div>\n",
       "<style scoped>\n",
       "    .dataframe tbody tr th:only-of-type {\n",
       "        vertical-align: middle;\n",
       "    }\n",
       "\n",
       "    .dataframe tbody tr th {\n",
       "        vertical-align: top;\n",
       "    }\n",
       "\n",
       "    .dataframe thead th {\n",
       "        text-align: right;\n",
       "    }\n",
       "</style>\n",
       "<table border=\"1\" class=\"dataframe\">\n",
       "  <thead>\n",
       "    <tr style=\"text-align: right;\">\n",
       "      <th></th>\n",
       "      <th>DL Latency (ms)</th>\n",
       "      <th>UL Interference</th>\n",
       "      <th>UL PRB Usage Rate(%)</th>\n",
       "      <th>L.DLPwr.Avg(dBm)</th>\n",
       "      <th>L.UL.RSRP.PUSCH</th>\n",
       "      <th>L.UL.RSSI.PUCCH</th>\n",
       "      <th>L.E-RAB.AbnormRel.Cong</th>\n",
       "      <th>L.E-RAB.AbnormRel.eNBTot.UEAbnormal</th>\n",
       "      <th>L.E-RAB.AbnormRel.HOFailure</th>\n",
       "      <th>L.E-RAB.AbnormRel.QCI.6</th>\n",
       "      <th>...</th>\n",
       "      <th>L.Paging.S1.Rx</th>\n",
       "      <th>L.Paging.S1.Rx.CS</th>\n",
       "      <th>L.Paging.UU.Att</th>\n",
       "      <th>L.Paging.UU.Num</th>\n",
       "      <th>L.Paging.UU.SIUpdate</th>\n",
       "      <th>L.Paging.UU.Succ</th>\n",
       "      <th>L.Paging.UU.Succ.CSFB</th>\n",
       "      <th>Average Active User</th>\n",
       "      <th>L.UECNTX.AbnormRel</th>\n",
       "      <th>Label</th>\n",
       "    </tr>\n",
       "  </thead>\n",
       "  <tbody>\n",
       "    <tr>\n",
       "      <th>0</th>\n",
       "      <td>40.1989</td>\n",
       "      <td>-116</td>\n",
       "      <td>8.1984</td>\n",
       "      <td>41.8</td>\n",
       "      <td>17060</td>\n",
       "      <td>336</td>\n",
       "      <td>0</td>\n",
       "      <td>0</td>\n",
       "      <td>0</td>\n",
       "      <td>0</td>\n",
       "      <td>...</td>\n",
       "      <td>18133</td>\n",
       "      <td>236</td>\n",
       "      <td>18137</td>\n",
       "      <td>17908</td>\n",
       "      <td>0</td>\n",
       "      <td>296</td>\n",
       "      <td>3</td>\n",
       "      <td>7.5092</td>\n",
       "      <td>0</td>\n",
       "      <td>Normal</td>\n",
       "    </tr>\n",
       "    <tr>\n",
       "      <th>1</th>\n",
       "      <td>12.909</td>\n",
       "      <td>-117</td>\n",
       "      <td>6.8713</td>\n",
       "      <td>41.7</td>\n",
       "      <td>12222</td>\n",
       "      <td>299</td>\n",
       "      <td>0</td>\n",
       "      <td>0</td>\n",
       "      <td>0</td>\n",
       "      <td>0</td>\n",
       "      <td>...</td>\n",
       "      <td>18133</td>\n",
       "      <td>236</td>\n",
       "      <td>18137</td>\n",
       "      <td>17908</td>\n",
       "      <td>0</td>\n",
       "      <td>209</td>\n",
       "      <td>4</td>\n",
       "      <td>5.9339</td>\n",
       "      <td>0</td>\n",
       "      <td>Normal</td>\n",
       "    </tr>\n",
       "    <tr>\n",
       "      <th>2</th>\n",
       "      <td>30.8297</td>\n",
       "      <td>-118</td>\n",
       "      <td>7.6623</td>\n",
       "      <td>41.7</td>\n",
       "      <td>48923</td>\n",
       "      <td>204</td>\n",
       "      <td>0</td>\n",
       "      <td>0</td>\n",
       "      <td>0</td>\n",
       "      <td>0</td>\n",
       "      <td>...</td>\n",
       "      <td>18132</td>\n",
       "      <td>236</td>\n",
       "      <td>18137</td>\n",
       "      <td>17908</td>\n",
       "      <td>0</td>\n",
       "      <td>273</td>\n",
       "      <td>0</td>\n",
       "      <td>11.8878</td>\n",
       "      <td>0</td>\n",
       "      <td>Normal</td>\n",
       "    </tr>\n",
       "    <tr>\n",
       "      <th>3</th>\n",
       "      <td>26.4364</td>\n",
       "      <td>-119</td>\n",
       "      <td>9.0134</td>\n",
       "      <td>42.1</td>\n",
       "      <td>34488</td>\n",
       "      <td>37</td>\n",
       "      <td>0</td>\n",
       "      <td>0</td>\n",
       "      <td>0</td>\n",
       "      <td>0</td>\n",
       "      <td>...</td>\n",
       "      <td>10602</td>\n",
       "      <td>62</td>\n",
       "      <td>10605</td>\n",
       "      <td>10521</td>\n",
       "      <td>0</td>\n",
       "      <td>199</td>\n",
       "      <td>1</td>\n",
       "      <td>11.1336</td>\n",
       "      <td>0</td>\n",
       "      <td>Normal</td>\n",
       "    </tr>\n",
       "    <tr>\n",
       "      <th>4</th>\n",
       "      <td>32.0612</td>\n",
       "      <td>-108</td>\n",
       "      <td>9.0785</td>\n",
       "      <td>42</td>\n",
       "      <td>27300</td>\n",
       "      <td>99255</td>\n",
       "      <td>0</td>\n",
       "      <td>0</td>\n",
       "      <td>0</td>\n",
       "      <td>0</td>\n",
       "      <td>...</td>\n",
       "      <td>10602</td>\n",
       "      <td>62</td>\n",
       "      <td>10605</td>\n",
       "      <td>10521</td>\n",
       "      <td>0</td>\n",
       "      <td>201</td>\n",
       "      <td>1</td>\n",
       "      <td>8.6617</td>\n",
       "      <td>0</td>\n",
       "      <td>Normal</td>\n",
       "    </tr>\n",
       "  </tbody>\n",
       "</table>\n",
       "<p>5 rows × 28 columns</p>\n",
       "</div>"
      ],
      "text/plain": [
       "  DL Latency (ms) UL Interference UL PRB Usage Rate(%) L.DLPwr.Avg(dBm)  \\\n",
       "0         40.1989            -116               8.1984             41.8   \n",
       "1          12.909            -117               6.8713             41.7   \n",
       "2         30.8297            -118               7.6623             41.7   \n",
       "3         26.4364            -119               9.0134             42.1   \n",
       "4         32.0612            -108               9.0785               42   \n",
       "\n",
       "   L.UL.RSRP.PUSCH  L.UL.RSSI.PUCCH  L.E-RAB.AbnormRel.Cong  \\\n",
       "0            17060              336                       0   \n",
       "1            12222              299                       0   \n",
       "2            48923              204                       0   \n",
       "3            34488               37                       0   \n",
       "4            27300            99255                       0   \n",
       "\n",
       "   L.E-RAB.AbnormRel.eNBTot.UEAbnormal  L.E-RAB.AbnormRel.HOFailure  \\\n",
       "0                                    0                            0   \n",
       "1                                    0                            0   \n",
       "2                                    0                            0   \n",
       "3                                    0                            0   \n",
       "4                                    0                            0   \n",
       "\n",
       "   L.E-RAB.AbnormRel.QCI.6   ...    L.Paging.S1.Rx  L.Paging.S1.Rx.CS  \\\n",
       "0                        0   ...             18133                236   \n",
       "1                        0   ...             18133                236   \n",
       "2                        0   ...             18132                236   \n",
       "3                        0   ...             10602                 62   \n",
       "4                        0   ...             10602                 62   \n",
       "\n",
       "   L.Paging.UU.Att  L.Paging.UU.Num  L.Paging.UU.SIUpdate  L.Paging.UU.Succ  \\\n",
       "0            18137            17908                     0               296   \n",
       "1            18137            17908                     0               209   \n",
       "2            18137            17908                     0               273   \n",
       "3            10605            10521                     0               199   \n",
       "4            10605            10521                     0               201   \n",
       "\n",
       "   L.Paging.UU.Succ.CSFB  Average Active User  L.UECNTX.AbnormRel   Label  \n",
       "0                      3               7.5092                   0  Normal  \n",
       "1                      4               5.9339                   0  Normal  \n",
       "2                      0              11.8878                   0  Normal  \n",
       "3                      1              11.1336                   0  Normal  \n",
       "4                      1               8.6617                   0  Normal  \n",
       "\n",
       "[5 rows x 28 columns]"
      ]
     },
     "execution_count": 7,
     "metadata": {},
     "output_type": "execute_result"
    }
   ],
   "source": [
    "df.head()"
   ]
  },
  {
   "cell_type": "code",
   "execution_count": 8,
   "metadata": {
    "collapsed": false
   },
   "outputs": [
    {
     "data": {
      "text/html": [
       "<div>\n",
       "<style scoped>\n",
       "    .dataframe tbody tr th:only-of-type {\n",
       "        vertical-align: middle;\n",
       "    }\n",
       "\n",
       "    .dataframe tbody tr th {\n",
       "        vertical-align: top;\n",
       "    }\n",
       "\n",
       "    .dataframe thead th {\n",
       "        text-align: right;\n",
       "    }\n",
       "</style>\n",
       "<table border=\"1\" class=\"dataframe\">\n",
       "  <thead>\n",
       "    <tr style=\"text-align: right;\">\n",
       "      <th></th>\n",
       "      <th>L.UL.RSRP.PUSCH</th>\n",
       "      <th>L.UL.RSSI.PUCCH</th>\n",
       "      <th>L.E-RAB.AbnormRel.Cong</th>\n",
       "      <th>L.E-RAB.AbnormRel.eNBTot.UEAbnormal</th>\n",
       "      <th>L.E-RAB.AbnormRel.HOFailure</th>\n",
       "      <th>L.E-RAB.AbnormRel.QCI.6</th>\n",
       "      <th>L.E-RAB.AbnormRel.QCI.9</th>\n",
       "      <th>L.E-RAB.AbnormRel.Radio.DRBReset</th>\n",
       "      <th>L.E-RAB.AbnormRel.Radio.SRBReset</th>\n",
       "      <th>L.E-RAB.AbnormRel.Radio.ULSyncFail</th>\n",
       "      <th>...</th>\n",
       "      <th>L.Paging.Dis.PchCong</th>\n",
       "      <th>L.Paging.S1.Rx</th>\n",
       "      <th>L.Paging.S1.Rx.CS</th>\n",
       "      <th>L.Paging.UU.Att</th>\n",
       "      <th>L.Paging.UU.Num</th>\n",
       "      <th>L.Paging.UU.SIUpdate</th>\n",
       "      <th>L.Paging.UU.Succ</th>\n",
       "      <th>L.Paging.UU.Succ.CSFB</th>\n",
       "      <th>Average Active User</th>\n",
       "      <th>L.UECNTX.AbnormRel</th>\n",
       "    </tr>\n",
       "  </thead>\n",
       "  <tbody>\n",
       "    <tr>\n",
       "      <th>count</th>\n",
       "      <td>4464.000000</td>\n",
       "      <td>4464.000000</td>\n",
       "      <td>4464.0</td>\n",
       "      <td>4464.0</td>\n",
       "      <td>4464.000000</td>\n",
       "      <td>4464.000000</td>\n",
       "      <td>4464.000000</td>\n",
       "      <td>4464.000000</td>\n",
       "      <td>4464.000000</td>\n",
       "      <td>4464.0</td>\n",
       "      <td>...</td>\n",
       "      <td>4464.0</td>\n",
       "      <td>4464.000000</td>\n",
       "      <td>4464.000000</td>\n",
       "      <td>4464.000000</td>\n",
       "      <td>4464.000000</td>\n",
       "      <td>4464.000000</td>\n",
       "      <td>4464.000000</td>\n",
       "      <td>4464.000000</td>\n",
       "      <td>4464.000000</td>\n",
       "      <td>4464.000000</td>\n",
       "    </tr>\n",
       "    <tr>\n",
       "      <th>mean</th>\n",
       "      <td>39493.069668</td>\n",
       "      <td>15227.179659</td>\n",
       "      <td>0.0</td>\n",
       "      <td>0.0</td>\n",
       "      <td>0.016129</td>\n",
       "      <td>0.097670</td>\n",
       "      <td>4.742384</td>\n",
       "      <td>0.982079</td>\n",
       "      <td>0.047715</td>\n",
       "      <td>0.0</td>\n",
       "      <td>...</td>\n",
       "      <td>0.0</td>\n",
       "      <td>30395.443772</td>\n",
       "      <td>874.225582</td>\n",
       "      <td>30374.159722</td>\n",
       "      <td>29700.103047</td>\n",
       "      <td>161.928763</td>\n",
       "      <td>359.864247</td>\n",
       "      <td>12.171819</td>\n",
       "      <td>9.449456</td>\n",
       "      <td>31.073029</td>\n",
       "    </tr>\n",
       "    <tr>\n",
       "      <th>std</th>\n",
       "      <td>43974.069477</td>\n",
       "      <td>37906.084437</td>\n",
       "      <td>0.0</td>\n",
       "      <td>0.0</td>\n",
       "      <td>0.132910</td>\n",
       "      <td>0.611602</td>\n",
       "      <td>14.405103</td>\n",
       "      <td>1.517289</td>\n",
       "      <td>0.231333</td>\n",
       "      <td>0.0</td>\n",
       "      <td>...</td>\n",
       "      <td>0.0</td>\n",
       "      <td>16519.784476</td>\n",
       "      <td>686.044496</td>\n",
       "      <td>16539.652852</td>\n",
       "      <td>15799.618047</td>\n",
       "      <td>1616.185765</td>\n",
       "      <td>276.467322</td>\n",
       "      <td>13.890865</td>\n",
       "      <td>7.252578</td>\n",
       "      <td>110.709336</td>\n",
       "    </tr>\n",
       "    <tr>\n",
       "      <th>min</th>\n",
       "      <td>0.000000</td>\n",
       "      <td>0.000000</td>\n",
       "      <td>0.0</td>\n",
       "      <td>0.0</td>\n",
       "      <td>0.000000</td>\n",
       "      <td>0.000000</td>\n",
       "      <td>0.000000</td>\n",
       "      <td>0.000000</td>\n",
       "      <td>0.000000</td>\n",
       "      <td>0.0</td>\n",
       "      <td>...</td>\n",
       "      <td>0.0</td>\n",
       "      <td>0.000000</td>\n",
       "      <td>0.000000</td>\n",
       "      <td>0.000000</td>\n",
       "      <td>0.000000</td>\n",
       "      <td>0.000000</td>\n",
       "      <td>0.000000</td>\n",
       "      <td>0.000000</td>\n",
       "      <td>0.000000</td>\n",
       "      <td>0.000000</td>\n",
       "    </tr>\n",
       "    <tr>\n",
       "      <th>25%</th>\n",
       "      <td>5284.250000</td>\n",
       "      <td>119.000000</td>\n",
       "      <td>0.0</td>\n",
       "      <td>0.0</td>\n",
       "      <td>0.000000</td>\n",
       "      <td>0.000000</td>\n",
       "      <td>0.000000</td>\n",
       "      <td>0.000000</td>\n",
       "      <td>0.000000</td>\n",
       "      <td>0.0</td>\n",
       "      <td>...</td>\n",
       "      <td>0.0</td>\n",
       "      <td>13738.000000</td>\n",
       "      <td>162.000000</td>\n",
       "      <td>13593.000000</td>\n",
       "      <td>13747.000000</td>\n",
       "      <td>0.000000</td>\n",
       "      <td>115.000000</td>\n",
       "      <td>1.000000</td>\n",
       "      <td>3.339425</td>\n",
       "      <td>0.000000</td>\n",
       "    </tr>\n",
       "    <tr>\n",
       "      <th>50%</th>\n",
       "      <td>26174.500000</td>\n",
       "      <td>390.000000</td>\n",
       "      <td>0.0</td>\n",
       "      <td>0.0</td>\n",
       "      <td>0.000000</td>\n",
       "      <td>0.000000</td>\n",
       "      <td>1.000000</td>\n",
       "      <td>0.000000</td>\n",
       "      <td>0.000000</td>\n",
       "      <td>0.0</td>\n",
       "      <td>...</td>\n",
       "      <td>0.0</td>\n",
       "      <td>34419.000000</td>\n",
       "      <td>916.500000</td>\n",
       "      <td>34411.000000</td>\n",
       "      <td>33682.000000</td>\n",
       "      <td>0.000000</td>\n",
       "      <td>320.500000</td>\n",
       "      <td>7.000000</td>\n",
       "      <td>8.154750</td>\n",
       "      <td>1.000000</td>\n",
       "    </tr>\n",
       "    <tr>\n",
       "      <th>75%</th>\n",
       "      <td>58275.250000</td>\n",
       "      <td>1237.000000</td>\n",
       "      <td>0.0</td>\n",
       "      <td>0.0</td>\n",
       "      <td>0.000000</td>\n",
       "      <td>0.000000</td>\n",
       "      <td>3.000000</td>\n",
       "      <td>1.000000</td>\n",
       "      <td>0.000000</td>\n",
       "      <td>0.0</td>\n",
       "      <td>...</td>\n",
       "      <td>0.0</td>\n",
       "      <td>44555.500000</td>\n",
       "      <td>1456.000000</td>\n",
       "      <td>44559.750000</td>\n",
       "      <td>43182.500000</td>\n",
       "      <td>0.000000</td>\n",
       "      <td>554.000000</td>\n",
       "      <td>20.000000</td>\n",
       "      <td>14.000600</td>\n",
       "      <td>3.000000</td>\n",
       "    </tr>\n",
       "    <tr>\n",
       "      <th>max</th>\n",
       "      <td>312019.000000</td>\n",
       "      <td>212317.000000</td>\n",
       "      <td>0.0</td>\n",
       "      <td>0.0</td>\n",
       "      <td>2.000000</td>\n",
       "      <td>15.000000</td>\n",
       "      <td>156.000000</td>\n",
       "      <td>15.000000</td>\n",
       "      <td>3.000000</td>\n",
       "      <td>0.0</td>\n",
       "      <td>...</td>\n",
       "      <td>0.0</td>\n",
       "      <td>63144.000000</td>\n",
       "      <td>2453.000000</td>\n",
       "      <td>63128.000000</td>\n",
       "      <td>60450.000000</td>\n",
       "      <td>26112.000000</td>\n",
       "      <td>1288.000000</td>\n",
       "      <td>86.000000</td>\n",
       "      <td>42.575000</td>\n",
       "      <td>998.000000</td>\n",
       "    </tr>\n",
       "  </tbody>\n",
       "</table>\n",
       "<p>8 rows × 23 columns</p>\n",
       "</div>"
      ],
      "text/plain": [
       "       L.UL.RSRP.PUSCH  L.UL.RSSI.PUCCH  L.E-RAB.AbnormRel.Cong  \\\n",
       "count      4464.000000      4464.000000                  4464.0   \n",
       "mean      39493.069668     15227.179659                     0.0   \n",
       "std       43974.069477     37906.084437                     0.0   \n",
       "min           0.000000         0.000000                     0.0   \n",
       "25%        5284.250000       119.000000                     0.0   \n",
       "50%       26174.500000       390.000000                     0.0   \n",
       "75%       58275.250000      1237.000000                     0.0   \n",
       "max      312019.000000    212317.000000                     0.0   \n",
       "\n",
       "       L.E-RAB.AbnormRel.eNBTot.UEAbnormal  L.E-RAB.AbnormRel.HOFailure  \\\n",
       "count                               4464.0                  4464.000000   \n",
       "mean                                   0.0                     0.016129   \n",
       "std                                    0.0                     0.132910   \n",
       "min                                    0.0                     0.000000   \n",
       "25%                                    0.0                     0.000000   \n",
       "50%                                    0.0                     0.000000   \n",
       "75%                                    0.0                     0.000000   \n",
       "max                                    0.0                     2.000000   \n",
       "\n",
       "       L.E-RAB.AbnormRel.QCI.6  L.E-RAB.AbnormRel.QCI.9  \\\n",
       "count              4464.000000              4464.000000   \n",
       "mean                  0.097670                 4.742384   \n",
       "std                   0.611602                14.405103   \n",
       "min                   0.000000                 0.000000   \n",
       "25%                   0.000000                 0.000000   \n",
       "50%                   0.000000                 1.000000   \n",
       "75%                   0.000000                 3.000000   \n",
       "max                  15.000000               156.000000   \n",
       "\n",
       "       L.E-RAB.AbnormRel.Radio.DRBReset  L.E-RAB.AbnormRel.Radio.SRBReset  \\\n",
       "count                       4464.000000                       4464.000000   \n",
       "mean                           0.982079                          0.047715   \n",
       "std                            1.517289                          0.231333   \n",
       "min                            0.000000                          0.000000   \n",
       "25%                            0.000000                          0.000000   \n",
       "50%                            0.000000                          0.000000   \n",
       "75%                            1.000000                          0.000000   \n",
       "max                           15.000000                          3.000000   \n",
       "\n",
       "       L.E-RAB.AbnormRel.Radio.ULSyncFail         ...          \\\n",
       "count                              4464.0         ...           \n",
       "mean                                  0.0         ...           \n",
       "std                                   0.0         ...           \n",
       "min                                   0.0         ...           \n",
       "25%                                   0.0         ...           \n",
       "50%                                   0.0         ...           \n",
       "75%                                   0.0         ...           \n",
       "max                                   0.0         ...           \n",
       "\n",
       "       L.Paging.Dis.PchCong  L.Paging.S1.Rx  L.Paging.S1.Rx.CS  \\\n",
       "count                4464.0     4464.000000        4464.000000   \n",
       "mean                    0.0    30395.443772         874.225582   \n",
       "std                     0.0    16519.784476         686.044496   \n",
       "min                     0.0        0.000000           0.000000   \n",
       "25%                     0.0    13738.000000         162.000000   \n",
       "50%                     0.0    34419.000000         916.500000   \n",
       "75%                     0.0    44555.500000        1456.000000   \n",
       "max                     0.0    63144.000000        2453.000000   \n",
       "\n",
       "       L.Paging.UU.Att  L.Paging.UU.Num  L.Paging.UU.SIUpdate  \\\n",
       "count      4464.000000      4464.000000           4464.000000   \n",
       "mean      30374.159722     29700.103047            161.928763   \n",
       "std       16539.652852     15799.618047           1616.185765   \n",
       "min           0.000000         0.000000              0.000000   \n",
       "25%       13593.000000     13747.000000              0.000000   \n",
       "50%       34411.000000     33682.000000              0.000000   \n",
       "75%       44559.750000     43182.500000              0.000000   \n",
       "max       63128.000000     60450.000000          26112.000000   \n",
       "\n",
       "       L.Paging.UU.Succ  L.Paging.UU.Succ.CSFB  Average Active User  \\\n",
       "count       4464.000000            4464.000000          4464.000000   \n",
       "mean         359.864247              12.171819             9.449456   \n",
       "std          276.467322              13.890865             7.252578   \n",
       "min            0.000000               0.000000             0.000000   \n",
       "25%          115.000000               1.000000             3.339425   \n",
       "50%          320.500000               7.000000             8.154750   \n",
       "75%          554.000000              20.000000            14.000600   \n",
       "max         1288.000000              86.000000            42.575000   \n",
       "\n",
       "       L.UECNTX.AbnormRel  \n",
       "count         4464.000000  \n",
       "mean            31.073029  \n",
       "std            110.709336  \n",
       "min              0.000000  \n",
       "25%              0.000000  \n",
       "50%              1.000000  \n",
       "75%              3.000000  \n",
       "max            998.000000  \n",
       "\n",
       "[8 rows x 23 columns]"
      ]
     },
     "execution_count": 8,
     "metadata": {},
     "output_type": "execute_result"
    }
   ],
   "source": [
    "df.describe()"
   ]
  },
  {
   "cell_type": "code",
   "execution_count": 9,
   "metadata": {
    "collapsed": true
   },
   "outputs": [],
   "source": [
    "# Remove Cols with Zeros\n",
    "df2 = df.loc[:, (df != 0).any(axis=0)] "
   ]
  },
  {
   "cell_type": "code",
   "execution_count": 10,
   "metadata": {
    "collapsed": true
   },
   "outputs": [],
   "source": [
    "#df2 = df2.drop(['L.Traffic.ActiveUser.DL.QCI.1.Max', 'L.Traffic.ActiveUser.UL.QCI.1.Max', 'E-RAB Drop Rate (%)_ENPMLTE','L.E-RAB.AbnormRel','L.E-RAB.AbnormRel.eNBTot','L.E-RAB.AbnormRel.TNL.Other'], axis=1)"
   ]
  },
  {
   "cell_type": "code",
   "execution_count": 11,
   "metadata": {
    "collapsed": true
   },
   "outputs": [],
   "source": [
    "df2 = df2.replace('/0', np.nan)\n",
    "#df2 = df2.replace('NIL', np.nan)"
   ]
  },
  {
   "cell_type": "code",
   "execution_count": 12,
   "metadata": {
    "collapsed": false
   },
   "outputs": [
    {
     "data": {
      "text/plain": [
       "(True, (4464, 23))"
      ]
     },
     "execution_count": 12,
     "metadata": {},
     "output_type": "execute_result"
    }
   ],
   "source": [
    "df2.isnull().any().any(), df2.shape"
   ]
  },
  {
   "cell_type": "code",
   "execution_count": 13,
   "metadata": {
    "collapsed": true
   },
   "outputs": [],
   "source": [
    "df2 = df2.dropna() # removing rows with missing vlaues "
   ]
  },
  {
   "cell_type": "code",
   "execution_count": 14,
   "metadata": {
    "collapsed": false
   },
   "outputs": [
    {
     "data": {
      "text/plain": [
       "(4379, 23)"
      ]
     },
     "execution_count": 14,
     "metadata": {},
     "output_type": "execute_result"
    }
   ],
   "source": [
    "df2.shape"
   ]
  },
  {
   "cell_type": "code",
   "execution_count": 15,
   "metadata": {
    "collapsed": false
   },
   "outputs": [
    {
     "data": {
      "text/plain": [
       "DL Latency (ms)                       object\n",
       "UL Interference                       object\n",
       "UL PRB Usage Rate(%)                  object\n",
       "L.DLPwr.Avg(dBm)                      object\n",
       "L.UL.RSRP.PUSCH                        int64\n",
       "L.UL.RSSI.PUCCH                        int64\n",
       "L.E-RAB.AbnormRel.HOFailure            int64\n",
       "L.E-RAB.AbnormRel.QCI.6                int64\n",
       "L.E-RAB.AbnormRel.QCI.9                int64\n",
       "L.E-RAB.AbnormRel.Radio.DRBReset       int64\n",
       "L.E-RAB.AbnormRel.Radio.SRBReset       int64\n",
       "L.E-RAB.AbnormRel.Radio.UuNoReply      int64\n",
       "L.E-RAB.AbnormRel.TNL                  int64\n",
       "L.Paging.S1.Rx                         int64\n",
       "L.Paging.S1.Rx.CS                      int64\n",
       "L.Paging.UU.Att                        int64\n",
       "L.Paging.UU.Num                        int64\n",
       "L.Paging.UU.SIUpdate                   int64\n",
       "L.Paging.UU.Succ                       int64\n",
       "L.Paging.UU.Succ.CSFB                  int64\n",
       "Average Active User                  float64\n",
       "L.UECNTX.AbnormRel                     int64\n",
       "Label                                 object\n",
       "dtype: object"
      ]
     },
     "execution_count": 15,
     "metadata": {},
     "output_type": "execute_result"
    }
   ],
   "source": [
    "df2.dtypes"
   ]
  },
  {
   "cell_type": "code",
   "execution_count": 16,
   "metadata": {
    "collapsed": true
   },
   "outputs": [],
   "source": [
    "df2 = df2.apply(pd.to_numeric, errors='ignore')    "
   ]
  },
  {
   "cell_type": "code",
   "execution_count": 17,
   "metadata": {
    "collapsed": false
   },
   "outputs": [
    {
     "data": {
      "text/plain": [
       "DL Latency (ms)                      float64\n",
       "UL Interference                        int64\n",
       "UL PRB Usage Rate(%)                 float64\n",
       "L.DLPwr.Avg(dBm)                     float64\n",
       "L.UL.RSRP.PUSCH                        int64\n",
       "L.UL.RSSI.PUCCH                        int64\n",
       "L.E-RAB.AbnormRel.HOFailure            int64\n",
       "L.E-RAB.AbnormRel.QCI.6                int64\n",
       "L.E-RAB.AbnormRel.QCI.9                int64\n",
       "L.E-RAB.AbnormRel.Radio.DRBReset       int64\n",
       "L.E-RAB.AbnormRel.Radio.SRBReset       int64\n",
       "L.E-RAB.AbnormRel.Radio.UuNoReply      int64\n",
       "L.E-RAB.AbnormRel.TNL                  int64\n",
       "L.Paging.S1.Rx                         int64\n",
       "L.Paging.S1.Rx.CS                      int64\n",
       "L.Paging.UU.Att                        int64\n",
       "L.Paging.UU.Num                        int64\n",
       "L.Paging.UU.SIUpdate                   int64\n",
       "L.Paging.UU.Succ                       int64\n",
       "L.Paging.UU.Succ.CSFB                  int64\n",
       "Average Active User                  float64\n",
       "L.UECNTX.AbnormRel                     int64\n",
       "Label                                 object\n",
       "dtype: object"
      ]
     },
     "execution_count": 17,
     "metadata": {},
     "output_type": "execute_result"
    }
   ],
   "source": [
    "df2.dtypes"
   ]
  },
  {
   "cell_type": "code",
   "execution_count": 18,
   "metadata": {
    "collapsed": false
   },
   "outputs": [],
   "source": [
    "Lab = df['Label'].value_counts()"
   ]
  },
  {
   "cell_type": "code",
   "execution_count": 19,
   "metadata": {
    "collapsed": false
   },
   "outputs": [
    {
     "data": {
      "text/plain": [
       "<matplotlib.axes._subplots.AxesSubplot at 0x18aef10f860>"
      ]
     },
     "execution_count": 19,
     "metadata": {},
     "output_type": "execute_result"
    },
    {
     "data": {
      "image/png": "[encoded data removed]",
      "text/plain": [
       "<Figure size 720x360 with 1 Axes>"
      ]
     },
     "metadata": {},
     "output_type": "display_data"
    }
   ],
   "source": [
    "Lab.plot(kind='barh', figsize=(10,5), fontsize=10)"
   ]
  },
  {
   "cell_type": "code",
   "execution_count": 20,
   "metadata": {
    "collapsed": false
   },
   "outputs": [
    {
     "data": {
      "text/html": [
       "<div>\n",
       "<style scoped>\n",
       "    .dataframe tbody tr th:only-of-type {\n",
       "        vertical-align: middle;\n",
       "    }\n",
       "\n",
       "    .dataframe tbody tr th {\n",
       "        vertical-align: top;\n",
       "    }\n",
       "\n",
       "    .dataframe thead th {\n",
       "        text-align: right;\n",
       "    }\n",
       "</style>\n",
       "<table border=\"1\" class=\"dataframe\">\n",
       "  <thead>\n",
       "    <tr style=\"text-align: right;\">\n",
       "      <th></th>\n",
       "      <th>DL Latency (ms)</th>\n",
       "      <th>UL Interference</th>\n",
       "      <th>UL PRB Usage Rate(%)</th>\n",
       "      <th>L.DLPwr.Avg(dBm)</th>\n",
       "      <th>L.UL.RSRP.PUSCH</th>\n",
       "      <th>L.UL.RSSI.PUCCH</th>\n",
       "      <th>L.E-RAB.AbnormRel.HOFailure</th>\n",
       "      <th>L.E-RAB.AbnormRel.QCI.6</th>\n",
       "      <th>L.E-RAB.AbnormRel.QCI.9</th>\n",
       "      <th>L.E-RAB.AbnormRel.Radio.DRBReset</th>\n",
       "      <th>...</th>\n",
       "      <th>L.Paging.S1.Rx.CS</th>\n",
       "      <th>L.Paging.UU.Att</th>\n",
       "      <th>L.Paging.UU.Num</th>\n",
       "      <th>L.Paging.UU.SIUpdate</th>\n",
       "      <th>L.Paging.UU.Succ</th>\n",
       "      <th>L.Paging.UU.Succ.CSFB</th>\n",
       "      <th>Average Active User</th>\n",
       "      <th>L.UECNTX.AbnormRel</th>\n",
       "      <th>Label_Abnormal</th>\n",
       "      <th>Label_Normal</th>\n",
       "    </tr>\n",
       "  </thead>\n",
       "  <tbody>\n",
       "    <tr>\n",
       "      <th>0</th>\n",
       "      <td>40.1989</td>\n",
       "      <td>-116</td>\n",
       "      <td>8.1984</td>\n",
       "      <td>41.8</td>\n",
       "      <td>17060</td>\n",
       "      <td>336</td>\n",
       "      <td>0</td>\n",
       "      <td>0</td>\n",
       "      <td>0</td>\n",
       "      <td>0</td>\n",
       "      <td>...</td>\n",
       "      <td>236</td>\n",
       "      <td>18137</td>\n",
       "      <td>17908</td>\n",
       "      <td>0</td>\n",
       "      <td>296</td>\n",
       "      <td>3</td>\n",
       "      <td>7.5092</td>\n",
       "      <td>0</td>\n",
       "      <td>0</td>\n",
       "      <td>1</td>\n",
       "    </tr>\n",
       "    <tr>\n",
       "      <th>1</th>\n",
       "      <td>12.9090</td>\n",
       "      <td>-117</td>\n",
       "      <td>6.8713</td>\n",
       "      <td>41.7</td>\n",
       "      <td>12222</td>\n",
       "      <td>299</td>\n",
       "      <td>0</td>\n",
       "      <td>0</td>\n",
       "      <td>0</td>\n",
       "      <td>0</td>\n",
       "      <td>...</td>\n",
       "      <td>236</td>\n",
       "      <td>18137</td>\n",
       "      <td>17908</td>\n",
       "      <td>0</td>\n",
       "      <td>209</td>\n",
       "      <td>4</td>\n",
       "      <td>5.9339</td>\n",
       "      <td>0</td>\n",
       "      <td>0</td>\n",
       "      <td>1</td>\n",
       "    </tr>\n",
       "    <tr>\n",
       "      <th>2</th>\n",
       "      <td>30.8297</td>\n",
       "      <td>-118</td>\n",
       "      <td>7.6623</td>\n",
       "      <td>41.7</td>\n",
       "      <td>48923</td>\n",
       "      <td>204</td>\n",
       "      <td>0</td>\n",
       "      <td>0</td>\n",
       "      <td>0</td>\n",
       "      <td>0</td>\n",
       "      <td>...</td>\n",
       "      <td>236</td>\n",
       "      <td>18137</td>\n",
       "      <td>17908</td>\n",
       "      <td>0</td>\n",
       "      <td>273</td>\n",
       "      <td>0</td>\n",
       "      <td>11.8878</td>\n",
       "      <td>0</td>\n",
       "      <td>0</td>\n",
       "      <td>1</td>\n",
       "    </tr>\n",
       "    <tr>\n",
       "      <th>3</th>\n",
       "      <td>26.4364</td>\n",
       "      <td>-119</td>\n",
       "      <td>9.0134</td>\n",
       "      <td>42.1</td>\n",
       "      <td>34488</td>\n",
       "      <td>37</td>\n",
       "      <td>0</td>\n",
       "      <td>0</td>\n",
       "      <td>0</td>\n",
       "      <td>0</td>\n",
       "      <td>...</td>\n",
       "      <td>62</td>\n",
       "      <td>10605</td>\n",
       "      <td>10521</td>\n",
       "      <td>0</td>\n",
       "      <td>199</td>\n",
       "      <td>1</td>\n",
       "      <td>11.1336</td>\n",
       "      <td>0</td>\n",
       "      <td>0</td>\n",
       "      <td>1</td>\n",
       "    </tr>\n",
       "    <tr>\n",
       "      <th>4</th>\n",
       "      <td>32.0612</td>\n",
       "      <td>-108</td>\n",
       "      <td>9.0785</td>\n",
       "      <td>42.0</td>\n",
       "      <td>27300</td>\n",
       "      <td>99255</td>\n",
       "      <td>0</td>\n",
       "      <td>0</td>\n",
       "      <td>0</td>\n",
       "      <td>0</td>\n",
       "      <td>...</td>\n",
       "      <td>62</td>\n",
       "      <td>10605</td>\n",
       "      <td>10521</td>\n",
       "      <td>0</td>\n",
       "      <td>201</td>\n",
       "      <td>1</td>\n",
       "      <td>8.6617</td>\n",
       "      <td>0</td>\n",
       "      <td>0</td>\n",
       "      <td>1</td>\n",
       "    </tr>\n",
       "  </tbody>\n",
       "</table>\n",
       "<p>5 rows × 24 columns</p>\n",
       "</div>"
      ],
      "text/plain": [
       "   DL Latency (ms)  UL Interference  UL PRB Usage Rate(%)  L.DLPwr.Avg(dBm)  \\\n",
       "0          40.1989             -116                8.1984              41.8   \n",
       "1          12.9090             -117                6.8713              41.7   \n",
       "2          30.8297             -118                7.6623              41.7   \n",
       "3          26.4364             -119                9.0134              42.1   \n",
       "4          32.0612             -108                9.0785              42.0   \n",
       "\n",
       "   L.UL.RSRP.PUSCH  L.UL.RSSI.PUCCH  L.E-RAB.AbnormRel.HOFailure  \\\n",
       "0            17060              336                            0   \n",
       "1            12222              299                            0   \n",
       "2            48923              204                            0   \n",
       "3            34488               37                            0   \n",
       "4            27300            99255                            0   \n",
       "\n",
       "   L.E-RAB.AbnormRel.QCI.6  L.E-RAB.AbnormRel.QCI.9  \\\n",
       "0                        0                        0   \n",
       "1                        0                        0   \n",
       "2                        0                        0   \n",
       "3                        0                        0   \n",
       "4                        0                        0   \n",
       "\n",
       "   L.E-RAB.AbnormRel.Radio.DRBReset      ...       L.Paging.S1.Rx.CS  \\\n",
       "0                                 0      ...                     236   \n",
       "1                                 0      ...                     236   \n",
       "2                                 0      ...                     236   \n",
       "3                                 0      ...                      62   \n",
       "4                                 0      ...                      62   \n",
       "\n",
       "   L.Paging.UU.Att  L.Paging.UU.Num  L.Paging.UU.SIUpdate  L.Paging.UU.Succ  \\\n",
       "0            18137            17908                     0               296   \n",
       "1            18137            17908                     0               209   \n",
       "2            18137            17908                     0               273   \n",
       "3            10605            10521                     0               199   \n",
       "4            10605            10521                     0               201   \n",
       "\n",
       "   L.Paging.UU.Succ.CSFB  Average Active User  L.UECNTX.AbnormRel  \\\n",
       "0                      3               7.5092                   0   \n",
       "1                      4               5.9339                   0   \n",
       "2                      0              11.8878                   0   \n",
       "3                      1              11.1336                   0   \n",
       "4                      1               8.6617                   0   \n",
       "\n",
       "   Label_Abnormal  Label_Normal  \n",
       "0               0             1  \n",
       "1               0             1  \n",
       "2               0             1  \n",
       "3               0             1  \n",
       "4               0             1  \n",
       "\n",
       "[5 rows x 24 columns]"
      ]
     },
     "execution_count": 20,
     "metadata": {},
     "output_type": "execute_result"
    }
   ],
   "source": [
    "######################## Generate One-Hot encoding to remove categorical variables ##########################\n",
    "\n",
    "df3 = pd.get_dummies(df2)\n",
    "df3.head()"
   ]
  },
  {
   "cell_type": "code",
   "execution_count": 21,
   "metadata": {
    "collapsed": true
   },
   "outputs": [],
   "source": [
    "##########################   Conversion into X and Y #################################\n",
    "\n",
    "X = df3.iloc[:, :22]\n",
    "y = df3.iloc[:, 22:]"
   ]
  },
  {
   "cell_type": "code",
   "execution_count": 22,
   "metadata": {
    "collapsed": false
   },
   "outputs": [
    {
     "data": {
      "text/plain": [
       "22"
      ]
     },
     "execution_count": 22,
     "metadata": {},
     "output_type": "execute_result"
    }
   ],
   "source": [
    "######################### Features ############################\n",
    "\n",
    "features = list(df3.columns[:-2])\n",
    "len(features)"
   ]
  },
  {
   "cell_type": "code",
   "execution_count": 23,
   "metadata": {
    "collapsed": false
   },
   "outputs": [],
   "source": [
    "################### Train and Test Sets #######################\n",
    "\n",
    "from sklearn.model_selection import train_test_split\n",
    "\n",
    "X_train, X_test, y_train, y_test = train_test_split(X, y, test_size=0.30)\n",
    "#X.iloc[X_train] # return dataframe train"
   ]
  },
  {
   "cell_type": "code",
   "execution_count": 24,
   "metadata": {
    "collapsed": false
   },
   "outputs": [
    {
     "data": {
      "text/plain": [
       "(1314, 2)"
      ]
     },
     "execution_count": 24,
     "metadata": {},
     "output_type": "execute_result"
    }
   ],
   "source": [
    "y_test.shape"
   ]
  },
  {
   "cell_type": "code",
   "execution_count": 25,
   "metadata": {
    "collapsed": false
   },
   "outputs": [
    {
     "data": {
      "text/html": [
       "<div>\n",
       "<style scoped>\n",
       "    .dataframe tbody tr th:only-of-type {\n",
       "        vertical-align: middle;\n",
       "    }\n",
       "\n",
       "    .dataframe tbody tr th {\n",
       "        vertical-align: top;\n",
       "    }\n",
       "\n",
       "    .dataframe thead th {\n",
       "        text-align: right;\n",
       "    }\n",
       "</style>\n",
       "<table border=\"1\" class=\"dataframe\">\n",
       "  <thead>\n",
       "    <tr style=\"text-align: right;\">\n",
       "      <th></th>\n",
       "      <th>DL Latency (ms)</th>\n",
       "      <th>UL Interference</th>\n",
       "      <th>UL PRB Usage Rate(%)</th>\n",
       "      <th>L.DLPwr.Avg(dBm)</th>\n",
       "      <th>L.UL.RSRP.PUSCH</th>\n",
       "      <th>L.UL.RSSI.PUCCH</th>\n",
       "      <th>L.E-RAB.AbnormRel.HOFailure</th>\n",
       "      <th>L.E-RAB.AbnormRel.QCI.6</th>\n",
       "      <th>L.E-RAB.AbnormRel.QCI.9</th>\n",
       "      <th>L.E-RAB.AbnormRel.Radio.DRBReset</th>\n",
       "      <th>...</th>\n",
       "      <th>L.E-RAB.AbnormRel.TNL</th>\n",
       "      <th>L.Paging.S1.Rx</th>\n",
       "      <th>L.Paging.S1.Rx.CS</th>\n",
       "      <th>L.Paging.UU.Att</th>\n",
       "      <th>L.Paging.UU.Num</th>\n",
       "      <th>L.Paging.UU.SIUpdate</th>\n",
       "      <th>L.Paging.UU.Succ</th>\n",
       "      <th>L.Paging.UU.Succ.CSFB</th>\n",
       "      <th>Average Active User</th>\n",
       "      <th>L.UECNTX.AbnormRel</th>\n",
       "    </tr>\n",
       "  </thead>\n",
       "  <tbody>\n",
       "    <tr>\n",
       "      <th>3965</th>\n",
       "      <td>88.8350</td>\n",
       "      <td>-115</td>\n",
       "      <td>13.4933</td>\n",
       "      <td>42.9</td>\n",
       "      <td>90720</td>\n",
       "      <td>495</td>\n",
       "      <td>0</td>\n",
       "      <td>0</td>\n",
       "      <td>1</td>\n",
       "      <td>1</td>\n",
       "      <td>...</td>\n",
       "      <td>0</td>\n",
       "      <td>55000</td>\n",
       "      <td>1986</td>\n",
       "      <td>55001</td>\n",
       "      <td>52947</td>\n",
       "      <td>0</td>\n",
       "      <td>807</td>\n",
       "      <td>36</td>\n",
       "      <td>23.5761</td>\n",
       "      <td>1</td>\n",
       "    </tr>\n",
       "    <tr>\n",
       "      <th>2008</th>\n",
       "      <td>43.1188</td>\n",
       "      <td>-115</td>\n",
       "      <td>9.8839</td>\n",
       "      <td>42.3</td>\n",
       "      <td>64838</td>\n",
       "      <td>234</td>\n",
       "      <td>0</td>\n",
       "      <td>0</td>\n",
       "      <td>1</td>\n",
       "      <td>1</td>\n",
       "      <td>...</td>\n",
       "      <td>0</td>\n",
       "      <td>27563</td>\n",
       "      <td>423</td>\n",
       "      <td>27559</td>\n",
       "      <td>27073</td>\n",
       "      <td>0</td>\n",
       "      <td>240</td>\n",
       "      <td>3</td>\n",
       "      <td>13.4881</td>\n",
       "      <td>1</td>\n",
       "    </tr>\n",
       "    <tr>\n",
       "      <th>808</th>\n",
       "      <td>34.4955</td>\n",
       "      <td>-116</td>\n",
       "      <td>9.2979</td>\n",
       "      <td>41.6</td>\n",
       "      <td>33790</td>\n",
       "      <td>340</td>\n",
       "      <td>0</td>\n",
       "      <td>0</td>\n",
       "      <td>1</td>\n",
       "      <td>1</td>\n",
       "      <td>...</td>\n",
       "      <td>0</td>\n",
       "      <td>55054</td>\n",
       "      <td>2073</td>\n",
       "      <td>55039</td>\n",
       "      <td>52933</td>\n",
       "      <td>0</td>\n",
       "      <td>562</td>\n",
       "      <td>21</td>\n",
       "      <td>12.3163</td>\n",
       "      <td>1</td>\n",
       "    </tr>\n",
       "    <tr>\n",
       "      <th>27</th>\n",
       "      <td>3.5292</td>\n",
       "      <td>-109</td>\n",
       "      <td>4.2038</td>\n",
       "      <td>41.2</td>\n",
       "      <td>481</td>\n",
       "      <td>135831</td>\n",
       "      <td>0</td>\n",
       "      <td>0</td>\n",
       "      <td>0</td>\n",
       "      <td>0</td>\n",
       "      <td>...</td>\n",
       "      <td>0</td>\n",
       "      <td>4782</td>\n",
       "      <td>18</td>\n",
       "      <td>4782</td>\n",
       "      <td>4770</td>\n",
       "      <td>0</td>\n",
       "      <td>36</td>\n",
       "      <td>0</td>\n",
       "      <td>1.2194</td>\n",
       "      <td>0</td>\n",
       "    </tr>\n",
       "    <tr>\n",
       "      <th>4051</th>\n",
       "      <td>50.0580</td>\n",
       "      <td>-118</td>\n",
       "      <td>4.6651</td>\n",
       "      <td>41.2</td>\n",
       "      <td>5503</td>\n",
       "      <td>228</td>\n",
       "      <td>0</td>\n",
       "      <td>0</td>\n",
       "      <td>41</td>\n",
       "      <td>0</td>\n",
       "      <td>...</td>\n",
       "      <td>41</td>\n",
       "      <td>38220</td>\n",
       "      <td>1150</td>\n",
       "      <td>38242</td>\n",
       "      <td>37269</td>\n",
       "      <td>0</td>\n",
       "      <td>272</td>\n",
       "      <td>29</td>\n",
       "      <td>5.2765</td>\n",
       "      <td>292</td>\n",
       "    </tr>\n",
       "  </tbody>\n",
       "</table>\n",
       "<p>5 rows × 22 columns</p>\n",
       "</div>"
      ],
      "text/plain": [
       "      DL Latency (ms)  UL Interference  UL PRB Usage Rate(%)  \\\n",
       "3965          88.8350             -115               13.4933   \n",
       "2008          43.1188             -115                9.8839   \n",
       "808           34.4955             -116                9.2979   \n",
       "27             3.5292             -109                4.2038   \n",
       "4051          50.0580             -118                4.6651   \n",
       "\n",
       "      L.DLPwr.Avg(dBm)  L.UL.RSRP.PUSCH  L.UL.RSSI.PUCCH  \\\n",
       "3965              42.9            90720              495   \n",
       "2008              42.3            64838              234   \n",
       "808               41.6            33790              340   \n",
       "27                41.2              481           135831   \n",
       "4051              41.2             5503              228   \n",
       "\n",
       "      L.E-RAB.AbnormRel.HOFailure  L.E-RAB.AbnormRel.QCI.6  \\\n",
       "3965                            0                        0   \n",
       "2008                            0                        0   \n",
       "808                             0                        0   \n",
       "27                              0                        0   \n",
       "4051                            0                        0   \n",
       "\n",
       "      L.E-RAB.AbnormRel.QCI.9  L.E-RAB.AbnormRel.Radio.DRBReset  \\\n",
       "3965                        1                                 1   \n",
       "2008                        1                                 1   \n",
       "808                         1                                 1   \n",
       "27                          0                                 0   \n",
       "4051                       41                                 0   \n",
       "\n",
       "             ...          L.E-RAB.AbnormRel.TNL  L.Paging.S1.Rx  \\\n",
       "3965         ...                              0           55000   \n",
       "2008         ...                              0           27563   \n",
       "808          ...                              0           55054   \n",
       "27           ...                              0            4782   \n",
       "4051         ...                             41           38220   \n",
       "\n",
       "      L.Paging.S1.Rx.CS  L.Paging.UU.Att  L.Paging.UU.Num  \\\n",
       "3965               1986            55001            52947   \n",
       "2008                423            27559            27073   \n",
       "808                2073            55039            52933   \n",
       "27                   18             4782             4770   \n",
       "4051               1150            38242            37269   \n",
       "\n",
       "      L.Paging.UU.SIUpdate  L.Paging.UU.Succ  L.Paging.UU.Succ.CSFB  \\\n",
       "3965                     0               807                     36   \n",
       "2008                     0               240                      3   \n",
       "808                      0               562                     21   \n",
       "27                       0                36                      0   \n",
       "4051                     0               272                     29   \n",
       "\n",
       "      Average Active User  L.UECNTX.AbnormRel  \n",
       "3965              23.5761                   1  \n",
       "2008              13.4881                   1  \n",
       "808               12.3163                   1  \n",
       "27                 1.2194                   0  \n",
       "4051               5.2765                 292  \n",
       "\n",
       "[5 rows x 22 columns]"
      ]
     },
     "execution_count": 25,
     "metadata": {},
     "output_type": "execute_result"
    }
   ],
   "source": [
    "X_train.head()"
   ]
  },
  {
   "cell_type": "markdown",
   "metadata": {
    "collapsed": true
   },
   "source": [
    "### Scaling/Normalization using MinMaxScaler "
   ]
  },
  {
   "cell_type": "code",
   "execution_count": 26,
   "metadata": {
    "collapsed": true
   },
   "outputs": [],
   "source": [
    "#############    Scaling and Normalization #########################\n",
    "\n",
    "scaler = MinMaxScaler().fit(X_train)\n",
    "X_train_scaled = np.array(scaler.transform(X_train))\n",
    "X_test_scaled = np.array(scaler.transform(X_test))"
   ]
  },
  {
   "cell_type": "code",
   "execution_count": 27,
   "metadata": {
    "collapsed": true
   },
   "outputs": [],
   "source": [
    "y_train_np = np.array(y_train)\n",
    "y_test_np = np.array(y_test)"
   ]
  },
  {
   "cell_type": "code",
   "execution_count": 28,
   "metadata": {
    "collapsed": false
   },
   "outputs": [
    {
     "name": "stdout",
     "output_type": "stream",
     "text": [
      "Training dataset shape (3065, 22) (3065, 2)\n",
      "Test dataset shape (1314, 22) (1314, 2)\n"
     ]
    }
   ],
   "source": [
    "print(\"Training dataset shape\", X_train_scaled.shape , y_train.shape)\n",
    "print(\"Test dataset shape\", X_test_scaled.shape , y_test.shape)\n",
    "#print(\"Label encoder y shape\", y_train_l.shape , y_test_l.shape)"
   ]
  },
  {
   "cell_type": "code",
   "execution_count": 29,
   "metadata": {
    "collapsed": false
   },
   "outputs": [
    {
     "data": {
      "text/plain": [
       "array([0.03321219, 0.35714286, 0.18608554, 0.37777778, 0.29074925,\n",
       "       0.00262982, 0.        , 0.        , 0.00641026, 0.06666667,\n",
       "       0.        , 0.        , 0.        , 0.86866634, 0.80930992,\n",
       "       0.86902287, 0.87097384, 0.        , 0.6265528 , 0.41860465,\n",
       "       0.55370738, 0.00100301])"
      ]
     },
     "execution_count": 29,
     "metadata": {},
     "output_type": "execute_result"
    }
   ],
   "source": [
    "X_train_scaled[0]"
   ]
  },
  {
   "cell_type": "markdown",
   "metadata": {},
   "source": [
    "######   KERAS Sequential Model ###########"
   ]
  },
  {
   "cell_type": "code",
   "execution_count": 30,
   "metadata": {
    "collapsed": true
   },
   "outputs": [],
   "source": [
    "from keras.callbacks import EarlyStopping\n",
    "from keras.callbacks import ModelCheckpoint"
   ]
  },
  {
   "cell_type": "code",
   "execution_count": 31,
   "metadata": {
    "collapsed": true
   },
   "outputs": [],
   "source": [
    "model = Sequential()\n",
    "model.add(Dense(256, input_dim = X_train_scaled.shape[1], activation = 'relu',))\n",
    "model.add(Dropout (0.4))\n",
    "model.add(Dense(y_train.shape[1] , activation='softmax'))\n",
    "model.compile(loss='categorical_crossentropy', optimizer='adam', metrics=['accuracy'])\n",
    "\n",
    "# 'categorical_crossentropy' -- when target has multiple classes \n",
    "# 'adam' - Algo for first order gradient based optimization of stochastic objective functions \n",
    "\n",
    "monitor = EarlyStopping(monitor='val_loss', min_delta=1e-3, patience=5, verbose=2, mode='auto')"
   ]
  },
  {
   "cell_type": "code",
   "execution_count": 32,
   "metadata": {
    "collapsed": false
   },
   "outputs": [
    {
     "name": "stdout",
     "output_type": "stream",
     "text": [
      "Train on 3065 samples, validate on 1314 samples\n",
      "Epoch 1/1000\n",
      " - 1s - loss: 0.3061 - acc: 0.8959 - val_loss: 0.1893 - val_acc: 0.9277\n",
      "Epoch 2/1000\n",
      " - 0s - loss: 0.1409 - acc: 0.9507 - val_loss: 0.1231 - val_acc: 0.9543\n",
      "Epoch 3/1000\n",
      " - 0s - loss: 0.1016 - acc: 0.9697 - val_loss: 0.1025 - val_acc: 0.9718\n",
      "Epoch 4/1000\n",
      " - 0s - loss: 0.0840 - acc: 0.9762 - val_loss: 0.0873 - val_acc: 0.9756\n",
      "Epoch 5/1000\n",
      " - 0s - loss: 0.0737 - acc: 0.9817 - val_loss: 0.0787 - val_acc: 0.9772\n",
      "Epoch 6/1000\n",
      " - 0s - loss: 0.0633 - acc: 0.9817 - val_loss: 0.0726 - val_acc: 0.9772\n",
      "Epoch 7/1000\n",
      " - 0s - loss: 0.0593 - acc: 0.9824 - val_loss: 0.0659 - val_acc: 0.9795\n",
      "Epoch 8/1000\n",
      " - 0s - loss: 0.0519 - acc: 0.9840 - val_loss: 0.0616 - val_acc: 0.9795\n",
      "Epoch 9/1000\n",
      " - 0s - loss: 0.0514 - acc: 0.9840 - val_loss: 0.0577 - val_acc: 0.9817\n",
      "Epoch 10/1000\n",
      " - 0s - loss: 0.0471 - acc: 0.9853 - val_loss: 0.0552 - val_acc: 0.9825\n",
      "Epoch 11/1000\n",
      " - 0s - loss: 0.0438 - acc: 0.9856 - val_loss: 0.0512 - val_acc: 0.9825\n",
      "Epoch 12/1000\n",
      " - 0s - loss: 0.0408 - acc: 0.9876 - val_loss: 0.0469 - val_acc: 0.9833\n",
      "Epoch 13/1000\n",
      " - 0s - loss: 0.0405 - acc: 0.9863 - val_loss: 0.0447 - val_acc: 0.9848\n",
      "Epoch 14/1000\n",
      " - 0s - loss: 0.0349 - acc: 0.9892 - val_loss: 0.0430 - val_acc: 0.9840\n",
      "Epoch 15/1000\n",
      " - 0s - loss: 0.0357 - acc: 0.9886 - val_loss: 0.0414 - val_acc: 0.9840\n",
      "Epoch 16/1000\n",
      " - 0s - loss: 0.0329 - acc: 0.9896 - val_loss: 0.0392 - val_acc: 0.9863\n",
      "Epoch 17/1000\n",
      " - 0s - loss: 0.0332 - acc: 0.9889 - val_loss: 0.0369 - val_acc: 0.9848\n",
      "Epoch 18/1000\n",
      " - 0s - loss: 0.0306 - acc: 0.9896 - val_loss: 0.0368 - val_acc: 0.9863\n",
      "Epoch 19/1000\n",
      " - 0s - loss: 0.0315 - acc: 0.9896 - val_loss: 0.0346 - val_acc: 0.9848\n",
      "Epoch 20/1000\n",
      " - 0s - loss: 0.0300 - acc: 0.9889 - val_loss: 0.0346 - val_acc: 0.9848\n",
      "Epoch 21/1000\n",
      " - 0s - loss: 0.0284 - acc: 0.9892 - val_loss: 0.0334 - val_acc: 0.9855\n",
      "Epoch 22/1000\n",
      " - 0s - loss: 0.0276 - acc: 0.9912 - val_loss: 0.0312 - val_acc: 0.9855\n",
      "Epoch 23/1000\n",
      " - 0s - loss: 0.0282 - acc: 0.9889 - val_loss: 0.0301 - val_acc: 0.9878\n",
      "Epoch 24/1000\n",
      " - 0s - loss: 0.0269 - acc: 0.9896 - val_loss: 0.0294 - val_acc: 0.9871\n",
      "Epoch 25/1000\n",
      " - 0s - loss: 0.0272 - acc: 0.9899 - val_loss: 0.0292 - val_acc: 0.9855\n",
      "Epoch 26/1000\n",
      " - 0s - loss: 0.0265 - acc: 0.9896 - val_loss: 0.0299 - val_acc: 0.9909\n",
      "Epoch 27/1000\n",
      " - 0s - loss: 0.0236 - acc: 0.9918 - val_loss: 0.0293 - val_acc: 0.9886\n",
      "Epoch 28/1000\n",
      " - 0s - loss: 0.0257 - acc: 0.9902 - val_loss: 0.0281 - val_acc: 0.9878\n",
      "Epoch 29/1000\n",
      " - 0s - loss: 0.0250 - acc: 0.9909 - val_loss: 0.0269 - val_acc: 0.9871\n",
      "Epoch 30/1000\n",
      " - 0s - loss: 0.0240 - acc: 0.9928 - val_loss: 0.0256 - val_acc: 0.9886\n",
      "Epoch 31/1000\n",
      " - 0s - loss: 0.0229 - acc: 0.9909 - val_loss: 0.0255 - val_acc: 0.9901\n",
      "Epoch 32/1000\n",
      " - 0s - loss: 0.0233 - acc: 0.9912 - val_loss: 0.0253 - val_acc: 0.9901\n",
      "Epoch 33/1000\n",
      " - 0s - loss: 0.0222 - acc: 0.9918 - val_loss: 0.0257 - val_acc: 0.9886\n",
      "Epoch 34/1000\n",
      " - 0s - loss: 0.0216 - acc: 0.9925 - val_loss: 0.0256 - val_acc: 0.9878\n",
      "Epoch 35/1000\n",
      " - 0s - loss: 0.0207 - acc: 0.9918 - val_loss: 0.0247 - val_acc: 0.9893\n",
      "Epoch 00035: early stopping\n"
     ]
    },
    {
     "data": {
      "text/plain": [
       "<keras.callbacks.History at 0x18af811ec50>"
      ]
     },
     "execution_count": 32,
     "metadata": {},
     "output_type": "execute_result"
    }
   ],
   "source": [
    "model.fit(X_train_scaled,y_train, validation_data=(X_test_scaled,y_test),callbacks=[monitor],verbose=2,epochs=1000)"
   ]
  },
  {
   "cell_type": "markdown",
   "metadata": {},
   "source": [
    "## CLeaverHans FGSM Implementation  "
   ]
  },
  {
   "cell_type": "code",
   "execution_count": 33,
   "metadata": {
    "collapsed": true
   },
   "outputs": [],
   "source": [
    "\n",
    "wrap = KerasModelWrapper(model)\n",
    "sess = backend.get_session()"
   ]
  },
  {
   "cell_type": "code",
   "execution_count": 34,
   "metadata": {
    "collapsed": true
   },
   "outputs": [],
   "source": [
    "fgsm = FastGradientMethod(wrap, sess=sess)\n",
    "fgsm_params = {'eps': 0.3,\n",
    "               'clip_min': 0.,\n",
    "               'clip_max': 1.}"
   ]
  },
  {
   "cell_type": "code",
   "execution_count": 35,
   "metadata": {
    "collapsed": false
   },
   "outputs": [
    {
     "name": "stderr",
     "output_type": "stream",
     "text": [
      "[INFO 2019-07-04 12:49:04,750 cleverhans] Constructing new graph for attack FastGradientMethod\n"
     ]
    }
   ],
   "source": [
    "adv_x = fgsm.generate_np(X_train_scaled, **fgsm_params)"
   ]
  },
  {
   "cell_type": "code",
   "execution_count": 36,
   "metadata": {
    "collapsed": true
   },
   "outputs": [],
   "source": [
    "###  Consider the attack to be constant\n",
    "\n",
    "#adv_x = tf.stop_gradient(adv_x)"
   ]
  },
  {
   "cell_type": "code",
   "execution_count": 37,
   "metadata": {
    "collapsed": true
   },
   "outputs": [],
   "source": [
    "feats = dict()\n",
    "total = 0\n",
    "\n",
    "orig_attack = X_train_scaled - adv_x\n",
    "\n",
    "for i in range(0, orig_attack.shape[0]):\n",
    "    ind = np.where(orig_attack[i, :] != 0)[0]\n",
    "    total += len(ind)\n",
    "    for j in ind:\n",
    "        if j in feats:\n",
    "            feats[j] += 1\n",
    "        else:\n",
    "            feats[j] = 1"
   ]
  },
  {
   "cell_type": "code",
   "execution_count": 38,
   "metadata": {
    "collapsed": false
   },
   "outputs": [
    {
     "name": "stdout",
     "output_type": "stream",
     "text": [
      "Number of unique features changed: 22\n"
     ]
    }
   ],
   "source": [
    "# The number of features that where changed for the adversarial samples\n",
    "print(\"Number of unique features changed:\", len(feats.keys()))\n",
    "#print(\"Number of average features changed per datapoint\", total/len(orig_attack))"
   ]
  },
  {
   "cell_type": "code",
   "execution_count": 39,
   "metadata": {
    "collapsed": true
   },
   "outputs": [],
   "source": [
    "pd.set_option('display.max_columns', None)  # or 1000"
   ]
  },
  {
   "cell_type": "code",
   "execution_count": 40,
   "metadata": {
    "collapsed": false
   },
   "outputs": [
    {
     "name": "stdout",
     "output_type": "stream",
     "text": [
      "Top 22 features: Index(['L.Paging.UU.Num', 'DL Latency (ms)', 'L.E-RAB.AbnormRel.QCI.9',\n",
      "       'L.Paging.UU.Succ', 'UL PRB Usage Rate(%)', 'L.UL.RSRP.PUSCH',\n",
      "       'L.Paging.S1.Rx.CS', 'Average Active User', 'L.UECNTX.AbnormRel',\n",
      "       'L.Paging.S1.Rx', 'L.Paging.UU.Att', 'L.UL.RSSI.PUCCH',\n",
      "       'L.E-RAB.AbnormRel.TNL', 'UL Interference',\n",
      "       'L.E-RAB.AbnormRel.Radio.SRBReset', 'L.E-RAB.AbnormRel.Radio.DRBReset',\n",
      "       'L.E-RAB.AbnormRel.QCI.6', 'L.Paging.UU.SIUpdate', 'L.DLPwr.Avg(dBm)',\n",
      "       'L.Paging.UU.Succ.CSFB', 'L.E-RAB.AbnormRel.HOFailure',\n",
      "       'L.E-RAB.AbnormRel.Radio.UuNoReply'],\n",
      "      dtype='object')\n"
     ]
    }
   ],
   "source": [
    "top_22 = sorted(feats , key=feats.get , reverse=True)[:22]\n",
    "print(\"Top 22 features:\", X_train.columns[top_22])"
   ]
  },
  {
   "cell_type": "code",
   "execution_count": 41,
   "metadata": {
    "collapsed": true
   },
   "outputs": [],
   "source": [
    "top_22_val = [100* feats[k] / y_train.shape[0] for k in top_22]"
   ]
  },
  {
   "cell_type": "code",
   "execution_count": 42,
   "metadata": {
    "collapsed": false
   },
   "outputs": [
    {
     "data": {
      "image/png": "[encoded data removed]",
      "text/plain": [
       "<Figure size 1152x864 with 1 Axes>"
      ]
     },
     "metadata": {},
     "output_type": "display_data"
    }
   ],
   "source": [
    "plt.figure(figsize=(16, 12))\n",
    "plt.bar(np.arange(22), top_22_val , align='center')\n",
    "plt.xticks(np.arange(22), X_train.columns[top_22], rotation='vertical')\n",
    "plt.title('Altered features in FGSM adversarial examples')\n",
    "plt.ylabel('Percentage (%)')\n",
    "plt.xlabel('Features')\n",
    "plt.savefig('Adv_features.png')"
   ]
  },
  {
   "cell_type": "markdown",
   "metadata": {},
   "source": [
    "# Adversarial Re-Training \n",
    "\n",
    "## Adding adv_x as input isntead of X_train in new model "
   ]
  },
  {
   "cell_type": "code",
   "execution_count": 43,
   "metadata": {
    "collapsed": true
   },
   "outputs": [],
   "source": [
    "model = Sequential()\n",
    "model.add(Dense(256, input_dim = adv_x.shape[1], activation = 'relu',))\n",
    "model.add(Dropout (0.4))\n",
    "model.add(Dense(y_train.shape[1] , activation='softmax'))\n",
    "model.compile(loss='categorical_crossentropy', optimizer='adam', metrics=['accuracy'])\n",
    "\n",
    "# 'categorical_crossentropy' -- when target has multiple classes \n",
    "# 'adam' - Algo for first order gradient based optimization of stochastic objective functions \n",
    "\n",
    "monitor = EarlyStopping(monitor='val_loss', min_delta=1e-3, patience=5, verbose=2, mode='auto')"
   ]
  },
  {
   "cell_type": "code",
   "execution_count": 44,
   "metadata": {
    "collapsed": false
   },
   "outputs": [
    {
     "name": "stdout",
     "output_type": "stream",
     "text": [
      "Train on 3065 samples, validate on 1314 samples\n",
      "Epoch 1/1000\n",
      " - 0s - loss: 0.1510 - acc: 0.9599 - val_loss: 0.7849 - val_acc: 0.5890\n",
      "Epoch 2/1000\n",
      " - 0s - loss: 0.0459 - acc: 0.9918 - val_loss: 1.1900 - val_acc: 0.2595\n",
      "Epoch 3/1000\n",
      " - 0s - loss: 0.0416 - acc: 0.9922 - val_loss: 1.1480 - val_acc: 0.3029\n",
      "Epoch 4/1000\n",
      " - 0s - loss: 0.0399 - acc: 0.9928 - val_loss: 1.3031 - val_acc: 0.2359\n",
      "Epoch 5/1000\n",
      " - 0s - loss: 0.0367 - acc: 0.9935 - val_loss: 1.3917 - val_acc: 0.1986\n",
      "Epoch 6/1000\n",
      " - 0s - loss: 0.0365 - acc: 0.9931 - val_loss: 1.4848 - val_acc: 0.1446\n",
      "Epoch 00006: early stopping\n"
     ]
    },
    {
     "data": {
      "text/plain": [
       "<keras.callbacks.History at 0x18af96da898>"
      ]
     },
     "execution_count": 44,
     "metadata": {},
     "output_type": "execute_result"
    }
   ],
   "source": [
    "model.fit(adv_x,y_train, validation_data=(X_test_scaled,y_test),callbacks=[monitor],verbose=2,epochs=1000)"
   ]
  },
  {
   "cell_type": "code",
   "execution_count": null,
   "metadata": {
    "collapsed": true
   },
   "outputs": [],
   "source": []
  }
 ],
 "metadata": {
  "kernelspec": {
   "display_name": "Python 3",
   "language": "python",
   "name": "python3"
  },
  "language_info": {
   "codemirror_mode": {
    "name": "ipython",
    "version": 3
   },
   "file_extension": ".py",
   "mimetype": "text/x-python",
   "name": "python",
   "nbconvert_exporter": "python",
   "pygments_lexer": "ipython3",
   "version": "3.6.7"
  }
 },
 "nbformat": 4,
 "nbformat_minor": 2
}
